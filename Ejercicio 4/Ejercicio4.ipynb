{
 "cells": [
  {
   "cell_type": "markdown",
   "metadata": {},
   "source": [
    "# Querys \n",
    "\n",
    "_Este ejercicio está pensado para hacerse en Pandas y/o SQL._ \n",
    "\n",
    "Carga el archivo https://raw.githubusercontent.com/rfordatascience/tidytuesday/master/data/2020/2020-01-14/passwords.csv en un DataFrame __SIN DESCARGARTE EL ARCHIVO__\n",
    "\n",
    "1. Crea una columna llamada “decrypt_time_seconds” y transforma los valores de “value” a segundos. Encontrarás el tipo en el que está en la columna “time_unit”\n",
    "2. Responde a estás preguntas\n",
    "    1. ¿Cuántas contraseñas empiezan por la secuencia 123?\n",
    "    2. ¿Cuál es el tiempo medio en horas necesario para descifrar estas contraseñas que empiezan por 123? ¿Cómo se compara con la media de todas las contraseñas del conjunto de datos?\n",
    "    3. ¿Cuántas contraseñas no contienen un número?\n",
    "    4. ¿Cuántas contraseñas contienen al menos un número?\n",
    "    5. ¿Existe una diferencia evidente en el tiempo de descifrado en línea entre las contraseñas que no contienen ningún número y las que contienen al menos un número?\n",
    "    6. ¿Cuántas contraseñas contienen al menos una de las siguientes puntuaciones: [.!?\\-] (pista: recuerde que este conjunto de datos contiene contraseñas débiles...)?\n",
    "    7. ¿Qué contraseñas de los conjuntos de datos tardaron menos tiempo en descifrarse mediante decriptación online? ¿Cuál tardó más?\n",
    "    \n",
    "\n",
    "Para resolver este ejercicio puedes crear todas las columnas que quieras si eso te ayuda para realizar las querys de forma sencilla. \n",
    "\n",
    "En todas las preguntas adjunta la query que has utilizado (tanto en Pandas o SQL).  \n",
    "\n",
    "### Puntos extra:\n",
    "\n",
    "haz el ejercicio 2.a, 2.c,2.d,2.f con expresiones regulares.\n",
    "\n"
   ]
  }
 ],
 "metadata": {
  "language_info": {
   "name": "python"
  }
 },
 "nbformat": 4,
 "nbformat_minor": 2
}

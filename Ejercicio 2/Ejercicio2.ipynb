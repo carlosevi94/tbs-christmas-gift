{
 "cells": [
  {
   "cell_type": "markdown",
   "metadata": {},
   "source": [
    "# Analítica de Piedra, papel o Tijera.\n",
    "\n",
    "Para hacer este ejercicio es necesario hacer el ejercicio 1.\n",
    "\n",
    "1. Genera 10.000 partidas, de entre 3 y 50 rondas. Pon el código con el que has generado las 10.000 partidas\n",
    "2. Carga todos los archivos en un único dataframe para cada tipo. \n",
    "3. Haz un join de esos archivos. \n",
    "4. Guarda el dataframe generado en el archivo 3 en 2 archivos, uno que contenga los indices pares y otro que contenga los impares. Guarda estos dataframes con separadores diferentes y no puede ser la coma ‘,’\n",
    "5. Carga de estos dos archivos IGNORANDO EL INDICE, y ordena el dataframe por fecha."
   ]
  }
 ],
 "metadata": {
  "language_info": {
   "name": "python"
  }
 },
 "nbformat": 4,
 "nbformat_minor": 2
}

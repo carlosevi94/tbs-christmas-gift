{
 "cells": [
  {
   "cell_type": "markdown",
   "metadata": {},
   "source": [
    "# Piedra, papel o tijera\n",
    "\n",
    "Implementa el juego Piedra Papel Tijera en Python. Será una versión sencilla, donde el jugador juega contra la máquina. La máquina elije la jugada de forma aleatoria. \n",
    "\n",
    "1. __Crea la clase Jugador__. \n",
    "\n",
    "    Tienes que guardar el nombre y la edad del jugador\n",
    "\n",
    "2. __Crea la clase Reglas__.\n",
    "\n",
    "    En esta clase tienes que crear una matriz para determinar quien gana según la casuística. De esta forma, si queremos cambiar las reglas del juego en cualquier momento, podemos hacerlo instanciando un nuevo objeto de Reglas.\n",
    "\n",
    "    Para entenderlo de forma sencilla, las filas es el jugador, y las columnas es la máquina, de tal forma que lo leemos por fila y luego columna. \n",
    "\n",
    "    |  | Piedra | Papel | Tijera |\n",
    "    | --- | --- | --- | --- |\n",
    "    | Piedra | Empate | Pierde | Gana |\n",
    "    | Papel | Gana | Empate | Pierde |\n",
    "    | Tijera | Pierde | Gana | Empate |\n",
    "\n",
    "    Si el jugador juega Piedra, y la máquina juega Tijera, lo leeríamos como:\n",
    "\n",
    "\n",
    "    ```\n",
    "    >>> print(regla[’Piedra’][’Tijera’])\n",
    "    Gana\n",
    "    ```\n",
    "\n",
    "3. __Crea la clase Partida__.\n",
    "\n",
    "    En esta clase tiene que estar el jugador y las reglas, además del número de rondas que el juego. \n",
    "\n",
    "    Dentro de esta clase debe haber una función que se llame “play_game” que ejecuta el juego, y al final de cada partida:\n",
    "\n",
    "    Archivo 1:\n",
    "\n",
    "    - Los datos del jugador\n",
    "    - La fecha del juego\n",
    "    - identificador de partida\n",
    "\n",
    "    Archivo 2:\n",
    "\n",
    "    - Identificador de partida\n",
    "    - resultado de partida.\n",
    "\n",
    "    De esta forma, en una partida en la que hay 3 rondas, se generá un archivo de tipo 1 y tendrá una fila, y un archivo de tipo 2 con 3 filas. \n",
    "\n",
    "4. __Implementa el ciclo del juego.__"
   ]
  }
 ],
 "metadata": {
  "language_info": {
   "name": "python"
  }
 },
 "nbformat": 4,
 "nbformat_minor": 2
}

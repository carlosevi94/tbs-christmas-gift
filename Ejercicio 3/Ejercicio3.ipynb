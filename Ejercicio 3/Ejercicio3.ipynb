{
 "cells": [
  {
   "cell_type": "markdown",
   "metadata": {},
   "source": [
    "# Cargando datos como si fuera gratis.\n",
    "\n",
    "Datos: https://www.kaggle.com/datasets/borismarjanovic/price-volume-data-for-all-us-stocks-etfs\n",
    "\n",
    "1. Descarga y descomprime este archivo. Guarda las carpetas EFTs y Stocks en la carpeta data dentro de esta carpeta.  \n",
    "2. Carga todos los archivos que hay en EFTs y crea un único DataFrame con todos los datos. Añade una columna con el nombre del archivo que estás cargando. \n",
    "3. Carga todos los archivos que hay en Stocks y crea un único DataFrame con todos los datos. Añade una columna con el nombre del archivo que estás cargando. \n",
    "4. Elimina del nombre de la columna de los pasos 2 y 3 el “.us.txt” del nombre del archivo\n",
    "5. Con el DataFrame creado en el paso 2, reorganiza el DataFrame para que te quede\n",
    "    1. El índice será la Fecha\n",
    "    2. Cada columna corresponde al valor Close de cada nombre de archivo. \n",
    "6. Repite el ejercicio 5 con los datos del ejercicio 3. \n",
    "7. Guarda los datos del dataframe del ejercicio 5 en diferentes archivos. Crea un archivo para cada año de datos"
   ]
  }
 ],
 "metadata": {
  "language_info": {
   "name": "python"
  }
 },
 "nbformat": 4,
 "nbformat_minor": 2
}

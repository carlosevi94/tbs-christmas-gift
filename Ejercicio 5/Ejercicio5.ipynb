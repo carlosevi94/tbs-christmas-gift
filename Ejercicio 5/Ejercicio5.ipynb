{
 "cells": [
  {
   "cell_type": "markdown",
   "metadata": {},
   "source": [
    "# Groupbys y Visualización\n",
    "\n",
    "Datos: https://www.kaggle.com/code/maricinnamon/store-sales-time-series-forecast-visualization/\n",
    "\n",
    "Descarga los datos y descomprimelos. Guarda los archivos \"holidays_events.csv\", \"oil.csv\", \"stores.csv\", \"train.csv\" y \"transactions.csv\" dentro de la carpeta data de esta carpeta. \n",
    "\n",
    "\n",
    "\n"
   ]
  },
  {
   "cell_type": "markdown",
   "metadata": {},
   "source": [
    "Carga todos los archivos en dataframes, donde el nombre del archivo será el nombre del dataframe (para referninos a el en el resto de ejercicios)"
   ]
  },
  {
   "cell_type": "markdown",
   "metadata": {},
   "source": [
    "# Ejercicio 1\n",
    "\n",
    "El dataframe train tiene datos de ventas de productos. Para cada fila están las ventas de una familia de productos para un día y tienda determinados. \n",
    "\n",
    "Haz un gráfico de todas las ventas de todas las tiendas por días. "
   ]
  },
  {
   "cell_type": "markdown",
   "metadata": {},
   "source": [
    "# Ejercicio 2\n",
    "\n",
    "Con el dataframe train, haz un grafico de todas las ventas agrupadas por familia de producto por días."
   ]
  },
  {
   "cell_type": "markdown",
   "metadata": {},
   "source": [
    "# Ejericicio 3\n",
    "\n",
    "Con el dataframe train, haz un grafico de todas las ventas agrupadas por tienda para cada día."
   ]
  },
  {
   "cell_type": "markdown",
   "metadata": {},
   "source": [
    "# Ejercicio 4\n",
    "\n",
    "Une los dataframes oil y holidays_events, y pinta en un gráfico el precio del aceite y marca en el gráfico usando lineas verticales (vlines en matplotlib) aquellos días festivos. \n",
    "\n",
    "Es obligatorio ver todas las fechas que están en el dataframe oil. "
   ]
  },
  {
   "cell_type": "markdown",
   "metadata": {},
   "source": [
    "# Ejercicio 5\n",
    "\n",
    "Junta los dataframes train y stores.\n",
    "\n",
    "Haz un gráfico agrupando las ventas totales por ciudad para cada día"
   ]
  },
  {
   "cell_type": "markdown",
   "metadata": {},
   "source": [
    "# Ejercicio 6\n",
    "\n",
    "Repite el ejercicio 5 pero en vez de agrupar por ciudad, agrupa por estado"
   ]
  },
  {
   "cell_type": "markdown",
   "metadata": {},
   "source": [
    "# Ejercicio 7\n",
    "\n",
    "Junta los dataframes train, transactions y store, y haz un gráfico para representar las ventas totales por cada estado para cada día, y además, el precio del aceite en los días donde tengas datos de ambos. "
   ]
  }
 ],
 "metadata": {
  "language_info": {
   "name": "python"
  }
 },
 "nbformat": 4,
 "nbformat_minor": 2
}
